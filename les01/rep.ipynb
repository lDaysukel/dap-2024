{
  "nbformat": 4,
  "nbformat_minor": 0,
  "metadata": {
    "colab": {
      "provenance": [],
      "toc_visible": true,
      "authorship_tag": "ABX9TyNp9N182HFv/Bv0klLakEwz",
      "include_colab_link": true
    },
    "kernelspec": {
      "name": "python3",
      "display_name": "Python 3"
    },
    "language_info": {
      "name": "python"
    }
  },
  "cells": [
    {
      "cell_type": "markdown",
      "metadata": {
        "id": "view-in-github",
        "colab_type": "text"
      },
      "source": [
        "<a href=\"https://colab.research.google.com/github/lDaysukel/dap-2024/blob/main/les01/rep.ipynb\" target=\"_parent\"><img src=\"https://colab.research.google.com/assets/colab-badge.svg\" alt=\"Open In Colab\"/></a>"
      ]
    },
    {
      "cell_type": "markdown",
      "source": [
        "# Лабораторная работа №1. Подготовка среды для анализа данных\n"
      ],
      "metadata": {
        "id": "6DqMqTmYuZpk"
      }
    },
    {
      "cell_type": "markdown",
      "source": [
        "Выполнил студент группы 12002209 Телятников Максим Евгеньевич"
      ],
      "metadata": {
        "id": "m3iuMzWTxueb"
      }
    },
    {
      "cell_type": "markdown",
      "source": [
        "##Задание"
      ],
      "metadata": {
        "id": "nFzblkGbw0ZO"
      }
    },
    {
      "cell_type": "markdown",
      "source": [
        "1. Создайте учетную запись в сервисе GitHub\n",
        "2. Выполните форк репозитория https://github.com/chebotarevsa/dap-2024\n",
        "3. Создайте учетную запись в [Google Colab](https://colab.research.google.com)\n",
        "4. Настройте интеграцию Google Colab и GitHub\n",
        "5. Создайте в Google Colab отчет о выполненой работе в виде файла rep.ipynb. Используйте Markdown разметку (заголовки, списки, форматированный текст, ссылки)\n",
        "6. Сохраните отчет в ваш репозиторий github в директории ./les01\n",
        "7. Создайте pull request в репозиторий https://github.com/chebotarevsa/dap-2024. Название pull request должно иметь формат \"<Номер лабораторной работы>  <Номер группы> <ФИО>\"\n",
        "8. Сдайте работу в системе \"Пегас\", в отчет укажите ссылку на pull request"
      ],
      "metadata": {
        "id": "iqL5rmUfxpg3"
      }
    },
    {
      "cell_type": "markdown",
      "source": [
        "##Ответы на вопросы"
      ],
      "metadata": {
        "id": "plA3NPFYxELB"
      }
    },
    {
      "cell_type": "markdown",
      "source": [
        "###Типы ячеек в Jupyter Notebook."
      ],
      "metadata": {
        "id": "-qAzu2Xvyiar"
      }
    },
    {
      "cell_type": "markdown",
      "source": [
        "В Jupyter Notebook есть три основных типа ячеек:\n",
        "\n",
        "* Code (Код): Ячейки для написания и выполнения кода на Python или других языках.\n",
        "\n",
        "* Markdown (Текст): Ячейки для написания текста с использованием Markdown. Поддерживает форматирование, заголовки, списки, цитаты и т.д.\n",
        "\n",
        "* Raw (Сырой текст): Ячейки, которые не обрабатываются Jupyter. Используются для\n",
        "хранения текста, который не должен изменяться при экспорте блокнота."
      ],
      "metadata": {
        "id": "uqtFILWzyo0t"
      }
    },
    {
      "cell_type": "markdown",
      "source": [
        "###Как с помощью Markdown сформировать иерархический список?"
      ],
      "metadata": {
        "id": "3hjT2l4Cyja0"
      }
    },
    {
      "cell_type": "markdown",
      "source": [
        "Иерархический список в Markdown создается с помощью отступов. Например:\n",
        "\n",
        "- Уровень 1\n",
        "  - Уровень 2\n",
        "    - Уровень 3\n",
        "  - Уровень 2\n",
        "- Уровень 1"
      ],
      "metadata": {
        "id": "z6mFCTLHy69O"
      }
    },
    {
      "cell_type": "markdown",
      "source": [
        "###Как с помощью Markdown оформить цитату?"
      ],
      "metadata": {
        "id": "tZ6EtjR7yjuQ"
      }
    },
    {
      "cell_type": "markdown",
      "source": [
        "Цитата оформляется с помощью символа >:\n",
        "\n",
        "> Это пример цитаты."
      ],
      "metadata": {
        "id": "wlK0U3XkzO5u"
      }
    },
    {
      "cell_type": "markdown",
      "source": [
        "###Как в текстовую ячейку вставить отформатированный блок кода?"
      ],
      "metadata": {
        "id": "_-v7Op4NykBM"
      }
    },
    {
      "cell_type": "markdown",
      "source": [
        "Для вставки отформатированного блока кода используйте тройные апострофы (```) или одинарные апострофы (``) для строки кода:\n",
        "\n",
        "```\n",
        "def hello():\n",
        "    print(\"Hello, World!\")\n",
        "```"
      ],
      "metadata": {
        "id": "3L8T6V5szjiA"
      }
    },
    {
      "cell_type": "markdown",
      "source": [
        "###Сколько уровней заголовка существует в Markdown?"
      ],
      "metadata": {
        "id": "u3MWyUNpykYV"
      }
    },
    {
      "cell_type": "markdown",
      "source": [
        "В Markdown существует 6 уровней заголовков. Они создаются с помощью символа #."
      ],
      "metadata": {
        "id": "1gbMmYLjz28X"
      }
    },
    {
      "cell_type": "markdown",
      "source": [
        "###Шаги процесса анализа данных"
      ],
      "metadata": {
        "id": "Sg_4Ax1fykvw"
      }
    },
    {
      "cell_type": "markdown",
      "source": [
        "Основные шаги процесса анализа данных:\n",
        "\n",
        "  - Постановка задачи: Определение цели анализа.\n",
        "\n",
        "  - Сбор данных: Получение данных из различных источников.\n",
        "\n",
        "  - Очистка данных: Удаление дубликатов, обработка пропусков, исправление ошибок.\n",
        "\n",
        "  - Исследовательский анализ данных (EDA): Изучение данных, визуализация, поиск закономерностей.\n",
        "\n",
        "  - Моделирование: Применение статистических или машинных методов для анализа.\n",
        "\n",
        "  - Интерпретация результатов: Анализ полученных результатов и формулирование выводов.\n",
        "\n",
        "  - Визуализация и отчет: Представление результатов в понятной форме.\n",
        "\n",
        "Подробнее о шаге 4 (EDA):\n",
        "\n",
        "  - Исследовательский анализ данных (EDA) включает:\n",
        "\n",
        "  - Изучение структуры данных (типы данных, размеры, пропуски).\n",
        "\n",
        "  - Визуализация данных (гистограммы, scatter plots, box plots).\n",
        "\n",
        "  - Поиск аномалий и выбросов.\n",
        "\n",
        "  - Анализ корреляций между переменными.\n",
        "\n",
        "  - Формулирование гипотез для дальнейшего анализа."
      ],
      "metadata": {
        "id": "EnG7GaoN0lWH"
      }
    },
    {
      "cell_type": "markdown",
      "source": [
        "###Типы данных"
      ],
      "metadata": {
        "id": "nMvposf4yk-j"
      }
    },
    {
      "cell_type": "markdown",
      "source": [
        "Основные типы данных:\n",
        "\n",
        "  - Числовые: Целые числа (int), числа с плавающей точкой (float):\n",
        "    - Дискретные: Целые числа (например, количество товаров).\n",
        "\n",
        "   - Непрерывные: Числа с плавающей точкой (например, температура).\n",
        "\n",
        "  - Категориальные: Текстовые данные (str), категории.\n",
        "\n",
        "  - Временные: Дата и время (datetime).\n",
        "\n",
        "  - Булевы: Логические значения (True, False)."
      ],
      "metadata": {
        "id": "ekzieGGC1NX7"
      }
    },
    {
      "cell_type": "markdown",
      "source": [
        "###Что такое Jupyter Notebook, для чего используется?"
      ],
      "metadata": {
        "id": "d_lCEjMzylPf"
      }
    },
    {
      "cell_type": "markdown",
      "source": [
        "Jupyter Notebook — это интерактивная среда для написания и выполнения кода, визуализации данных и создания документов. Она поддерживает множество языков программирования (Python, R, Julia и др.).\n",
        "\n",
        "Используется для:\n",
        "\n",
        "  - Анализа данных.\n",
        "\n",
        "  - Машинного обучения.\n",
        "\n",
        "  - Научных исследований.\n",
        "\n",
        "  - Обучения программированию."
      ],
      "metadata": {
        "id": "Etgv1RwM14m2"
      }
    },
    {
      "cell_type": "markdown",
      "source": [
        "###Почему Python популярен для анализа данных?"
      ],
      "metadata": {
        "id": "iw330ne8ylfZ"
      }
    },
    {
      "cell_type": "markdown",
      "source": [
        "Python популярен для анализа данных благодаря:\n",
        "\n",
        "  - Библиотекам: Pandas, NumPy, Matplotlib, Seaborn, Scikit-learn.\n",
        "\n",
        "  - Простоте: Легкий в изучении и использовании.\n",
        "\n",
        "  - Сообществу: Большое количество ресурсов и поддержка.\n",
        "\n",
        "  - Гибкости: Подходит для обработки данных, визуализации, машинного обучения.\n",
        "\n",
        "  - Интеграции: Хорошо работает с другими инструментами (Jupyter, SQL, Hadoop)."
      ],
      "metadata": {
        "id": "if_4-xp92HKJ"
      }
    },
    {
      "cell_type": "markdown",
      "source": [
        "###Обязательно ли использовать Jupyter Notebook для анализа данных?"
      ],
      "metadata": {
        "id": "q6pQk_u0yKD9"
      }
    },
    {
      "cell_type": "markdown",
      "source": [
        "Нет, Jupyter Notebook не является обязательным инструментом. Анализ данных можно проводить с помощью:\n",
        "\n",
        "  - IDE (PyCharm, VS Code).\n",
        "\n",
        "  - Скриптов на Python.\n",
        "\n",
        "  - Специализированных инструментов (RStudio, Tableau, Excel).\n",
        "\n",
        "  - Облачных платформ (Google Colab, Databricks).\n",
        "\n",
        "Jupyter Notebook удобен для интерактивного анализа и визуализации, но для больших проектов или production-решений часто используются другие инструменты."
      ],
      "metadata": {
        "id": "SnO1H7xtyKsI"
      }
    }
  ]
}