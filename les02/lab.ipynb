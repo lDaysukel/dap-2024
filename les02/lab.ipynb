{
  "cells": [
    {
      "cell_type": "markdown",
      "metadata": {
        "id": "ZTo519Ge6h36"
      },
      "source": [
        "# Лабораторная работа №2. Основы Python"
      ]
    },
    {
      "cell_type": "markdown",
      "source": [
        "Выполнил студент группы 12002209 Телятников Максим Евгеньевич\n"
      ],
      "metadata": {
        "id": "glCJqqaO6j_1"
      }
    },
    {
      "cell_type": "markdown",
      "metadata": {
        "id": "s1KjY_w26h37"
      },
      "source": [
        "## Задание"
      ]
    },
    {
      "cell_type": "markdown",
      "metadata": {
        "id": "6BQv0Bm96h37"
      },
      "source": [
        "Выполните следующие задания:\n",
        "\n",
        "1. Откройте в файл в Google Colab (используйте собственный форк репозитория).\n",
        "2. Решите задачи.\n",
        "3. Сохраните результат в ваш репозиторий github в директорию ./les02\n",
        "4. Создайте pull request в репозиторий https://github.com/chebotarevsa/dap-2024. Название pull request должно иметь формат \"<Номер лабораторной работы>  <Номер группы> <ФИО>\"\n",
        "5. Сдайте работу в системе \"Пегас\", в отчет укажите ссылку на pull request"
      ]
    },
    {
      "cell_type": "markdown",
      "metadata": {
        "id": "mHMxvPC06h37"
      },
      "source": [
        "Задача №1. https://leetcode.com/problems/two-sum/"
      ]
    },
    {
      "cell_type": "code",
      "execution_count": 5,
      "metadata": {
        "id": "UqoQ3yzd6h37"
      },
      "outputs": [],
      "source": [
        "class Solution(object):\n",
        "    def twoSum(self, nums, target):\n",
        "        \"\"\"\n",
        "        :type nums: List[int]\n",
        "        :type target: int\n",
        "        :rtype: List[int]\n",
        "        \"\"\"\n",
        "        num_map = {}\n",
        "\n",
        "        for i, num in enumerate(nums):\n",
        "\n",
        "            complement = target - num\n",
        "\n",
        "            if complement in num_map:\n",
        "\n",
        "                return [num_map[complement], i]\n",
        "\n",
        "            num_map[num] = i\n",
        "\n",
        "        return []"
      ]
    },
    {
      "cell_type": "markdown",
      "metadata": {
        "id": "f-Y7aGs96h38"
      },
      "source": [
        "Задача №2. https://leetcode.com/problems/palindrome-number/description/"
      ]
    },
    {
      "cell_type": "code",
      "execution_count": null,
      "metadata": {
        "id": "9Itzv3ks6h38"
      },
      "outputs": [],
      "source": [
        "class Solution2(object):\n",
        "    def isPalindrome(self, x):\n",
        "        \"\"\"\n",
        "        :type x: int\n",
        "        :rtype: bool\n",
        "        \"\"\"\n",
        "\n",
        "        if x < 0:\n",
        "            return False\n",
        "\n",
        "        str_x = str(x)\n",
        "\n",
        "        return str_x == str_x[::-1]\n",
        ""
      ]
    },
    {
      "cell_type": "markdown",
      "metadata": {
        "id": "S_luqcmi6h38"
      },
      "source": [
        "Задача №3. https://leetcode.com/problems/roman-to-integer/description/"
      ]
    },
    {
      "cell_type": "code",
      "execution_count": 6,
      "metadata": {
        "id": "Ssp7VMjv6h38"
      },
      "outputs": [],
      "source": [
        "class Solution3(object):\n",
        "    def romanToInt(self, s):\n",
        "        \"\"\"\n",
        "        :type s: str\n",
        "        :rtype: int\n",
        "        \"\"\"\n",
        "\n",
        "        roman_to_int = {\n",
        "            'I': 1,\n",
        "            'V': 5,\n",
        "            'X': 10,\n",
        "            'L': 50,\n",
        "            'C': 100,\n",
        "            'D': 500,\n",
        "            'M': 1000\n",
        "        }\n",
        "\n",
        "        total = 0\n",
        "\n",
        "        for i in range(len(s)):\n",
        "\n",
        "            if i < len(s) - 1 and roman_to_int[s[i]] < roman_to_int[s[i + 1]]:\n",
        "                total -= roman_to_int[s[i]]\n",
        "\n",
        "            else:\n",
        "                total += roman_to_int[s[i]]\n",
        "\n",
        "        return total"
      ]
    },
    {
      "cell_type": "markdown",
      "metadata": {
        "id": "C4c04_E06h38"
      },
      "source": [
        "Задача №4. https://leetcode.com/problems/longest-common-prefix/description/"
      ]
    },
    {
      "cell_type": "code",
      "execution_count": null,
      "metadata": {
        "id": "uYGXSH8M6h39"
      },
      "outputs": [],
      "source": [
        "class Solution4(object):\n",
        "    def longestCommonPrefix(self, strs):\n",
        "        \"\"\"\n",
        "        :type strs: List[str]\n",
        "        :rtype: str\n",
        "        \"\"\"\n",
        "\n",
        "        if not strs:\n",
        "            return \"\"\n",
        "\n",
        "        shortest = min(strs, key=len)\n",
        "\n",
        "        for i, char in enumerate(shortest):\n",
        "\n",
        "            for other in strs:\n",
        "                if other[i] != char:\n",
        "\n",
        "                    return shortest[:i]\n",
        "\n",
        "        return shortest\n",
        ""
      ]
    },
    {
      "cell_type": "markdown",
      "metadata": {
        "id": "AMNzalk_6h39"
      },
      "source": [
        "Задача №5. https://leetcode.com/problems/merge-two-sorted-lists/description/"
      ]
    },
    {
      "cell_type": "code",
      "execution_count": null,
      "metadata": {
        "id": "NT_9NPna6h39"
      },
      "outputs": [],
      "source": [
        "class ListNode(object):\n",
        "    def __init__(self, val=0, next=None):\n",
        "        self.val = val\n",
        "        self.next = next\n",
        "\n",
        "class Solution(object):\n",
        "    def mergeTwoLists(self, list1, list2):\n",
        "        \"\"\"\n",
        "        :type list1: Optional[ListNode]  # Голова первого списка\n",
        "        :type list2: Optional[ListNode]  # Голова второго списка\n",
        "        :rtype: Optional[ListNode]       # Голова объединенного списка\n",
        "        \"\"\"\n",
        "\n",
        "        dummy = ListNode()\n",
        "        current = dummy\n",
        "\n",
        "        while list1 and list2:\n",
        "            if list1.val < list2.val:\n",
        "                current.next = list1\n",
        "                list1 = list1.next\n",
        "\n",
        "            else:\n",
        "                current.next = list2\n",
        "                list2 = list2.next\n",
        "            current = current.next\n",
        "\n",
        "        if list1:\n",
        "            current.next = list1\n",
        "        elif list2:\n",
        "            current.next = list2\n",
        "\n",
        "        return dummy.next\n",
        ""
      ]
    },
    {
      "cell_type": "markdown",
      "metadata": {
        "id": "Aj1McHNo6h39"
      },
      "source": [
        "Задача №6. https://leetcode.com/problems/longest-substring-without-repeating-characters/description/"
      ]
    },
    {
      "cell_type": "code",
      "execution_count": null,
      "metadata": {
        "id": "7mk7go3r6h39"
      },
      "outputs": [],
      "source": [
        "class Solution(object):\n",
        "    def lengthOfLongestSubstring(self, s):\n",
        "        \"\"\"\n",
        "        :type s: str\n",
        "        :rtype: int\n",
        "        \"\"\"\n",
        "\n",
        "        char_index = {}\n",
        "        max_length = 0\n",
        "        start = 0\n",
        "\n",
        "        for end in range(len(s)):\n",
        "\n",
        "            if s[end] in char_index and char_index[s[end]] >= start:\n",
        "                start = char_index[s[end]] + 1\n",
        "\n",
        "            char_index[s[end]] = end\n",
        "\n",
        "            current_length = end - start + 1\n",
        "            if current_length > max_length:\n",
        "                max_length = current_length\n",
        "\n",
        "        return max_length"
      ]
    },
    {
      "cell_type": "markdown",
      "metadata": {
        "id": "Q_ReqERN6h39"
      },
      "source": [
        "## Вопросы\n",
        "\n",
        "1. Что такое динамическая типизация и чем она отличается от статической?\n",
        "\n",
        "- Динамическая типизация: Тип переменной определяется во время выполнения программы. Например, в Python переменная может быть строкой, а затем стать числом.\n",
        "\n",
        "```\n",
        "x = 10      # x — целое число\n",
        "x = \"hello\" # x — строка\n",
        "```\n",
        "\n",
        "- Статическая типизация: Тип переменной определяется на этапе компиляции и не может быть изменен. Например, в C++ или Java:\n",
        "\n",
        "```\n",
        "int x = 10; // x всегда будет целым числом\n",
        "// x = \"hello\"; // Ошибка: тип переменной нельзя изменить\n",
        "```\n",
        "Отличие: В динамической типизации типы проверяются во время выполнения, а в статической — на этапе компиляции.\n",
        "\n",
        "2. Чем отличается цикл for в Python от цикла for в С++?\n",
        "\n",
        "- Python:\n",
        "\n",
        "  - Цикл for работает с итерируемыми объектами (списки, строки, диапазоны и т.д.).\n",
        "\n",
        "Пример:\n",
        "\n",
        "```\n",
        "for i in range(5):  # i принимает значения 0, 1, 2, 3, 4\n",
        "    print(i)\n",
        "```\n",
        "- C++:\n",
        "\n",
        "  - Цикл for требует явного задания начального значения, условия и шага.\n",
        "\n",
        "Пример:\n",
        "\n",
        "```\n",
        "for (int i = 0; i < 5; i++) {  // i увеличивается от 0 до 4\n",
        "    cout << i << endl;\n",
        "}\n",
        "```\n",
        "\n",
        "Отличие: В Python цикл for более высокоуровневый и работает с итераторами, а в C++ — это низкоуровневый цикл с явным управлением.\n",
        "3. Для чего предназначены операторы continue и break?\n",
        "- continue: Пропускает оставшуюся часть текущей итерации цикла и переходит к следующей итерации.\n",
        "\n",
        "```\n",
        "for i in range(5):\n",
        "    if i == 2:\n",
        "        continue  # Пропустить итерацию с i = 2\n",
        "    print(i)\n",
        "```\n",
        "- break: Полностью завершает выполнение цикла.\n",
        "\n",
        "```\n",
        "for i in range(5):\n",
        "    if i == 3:\n",
        "        break  # Завершить цикл при i = 3\n",
        "    print(i)\n",
        "```\n",
        "\n",
        "4. Как определить функцию в python? Может ли функция возвращать несколько значений?\n",
        "\n",
        "- Определение функции:\n",
        "\n",
        "```\n",
        "def my_function(a, b):\n",
        "    return a + b\n",
        "```\n",
        "\n",
        "- Возврат нескольких значений:\n",
        "\n",
        "Функция может возвращать несколько значений в виде кортежа:\n",
        "\n",
        "```\n",
        "def my_function(a, b):\n",
        "    return a + b, a * b  # Возвращает кортеж (сумма, произведение)\n",
        "```\n",
        "\n",
        "5. Что такое лямбда функции и для чего они предназначены?\n",
        "\n",
        "- Лямбда-функция: Это анонимная функция, которая определяется в одной строке.\n",
        "\n",
        "```\n",
        "multiply = lambda x, y: x * y\n",
        "print(multiply(2, 3))  # Вывод: 6\n",
        "```\n",
        "Назначение: Используются для простых операций, которые не требуют отдельного определения через def.\n",
        "\n",
        "6. Может ли тело функции содержать определение другой функции?\n",
        "\n",
        "- Да, в Python можно определять функции внутри других функций (вложенные функции):\n",
        "\n",
        "```\n",
        "def outer_function():\n",
        "    def inner_function():\n",
        "        print(\"Внутренняя функция\")\n",
        "    inner_function()\n",
        "\n",
        "outer_function()  # Вывод: \"Внутренняя функция\"\n",
        "```\n",
        "\n",
        "7. Как определить класс в python? Для чего нужна переменная self?\n",
        "\n",
        "- Определение класса:\n",
        "\n",
        "```\n",
        "class MyClass:\n",
        "    def __init__(self, value):\n",
        "        self.value = value\n",
        "```\n",
        "self: Это ссылка на текущий экземпляр класса. Используется для доступа к атрибутам и методам объекта.\n",
        "\n",
        "8. Как определить приватный метод? Можно ли вызвать приватный метод за пределами класса?\n",
        "\n",
        "- Приватный метод: Начинается с двух подчеркиваний (__).\n",
        "\n",
        "```\n",
        "class MyClass:\n",
        "    def __private_method(self):\n",
        "        print(\"Это приватный метод\")\n",
        "```\n",
        "\n",
        "- Вызов за пределами класса: Нет, напрямую нельзя. Но можно через _ИмяКласса__метод:\n",
        "\n",
        "```\n",
        "obj = MyClass()\n",
        "obj._MyClass__private_method()  # Вывод: \"Это приватный метод\"\n",
        "```\n",
        "\n",
        "9. Как определить статический метод класса? Для чего может понадобиться статический метод?\n",
        "\n",
        "- Статический метод: Определяется с помощью декоратора @staticmethod. Не требует ссылки на экземпляр (self) или класс (cls).\n",
        "\n",
        "```\n",
        "class MyClass:\n",
        "    @staticmethod\n",
        "    def my_static_method():\n",
        "        print(\"Это статический метод\")\n",
        "```\n",
        "Назначение: Используется для методов, которые не зависят от состояния объекта или класса.\n",
        "\n",
        "10. Чем staticmethod отличается от classmethod?\n",
        "\n",
        "- staticmethod: Не принимает ни self, ни cls. Это просто функция, связанная с классом.\n",
        "\n",
        "- classmethod: Принимает cls (ссылку на класс) и может изменять состояние класса.\n",
        "\n",
        "```\n",
        "class MyClass:\n",
        "    @classmethod\n",
        "    def my_class_method(cls):\n",
        "        print(f\"Это метод класса {cls}\")\n",
        "```\n",
        "\n",
        "11. Как определить собственный класс исключений Python? Как выбросить и перехватить исключение?\n",
        "\n",
        "- Определение класса исключений:\n",
        "\n",
        "```\n",
        "class MyCustomError(Exception):\n",
        "    pass\n",
        "```\n",
        "\n",
        "- Выброс и перехват исключения:\n",
        "\n",
        "```\n",
        "try:\n",
        "    raise MyCustomError(\"Произошла ошибка\")\n",
        "except MyCustomError as e:\n",
        "    print(f\"Перехвачено исключение: {e}\")\n",
        "```\n",
        "\n",
        "12. Что такое картеж, для чего он используется?\n",
        "\n",
        "- Кортеж: Это неизменяемый упорядоченный набор элементов.\n",
        "\n",
        "```\n",
        "my_tuple = (1, 2, 3)\n",
        "```\n",
        "\n",
        "Назначение: Используется для хранения данных, которые не должны изменяться (например, координаты, константы)."
      ]
    }
  ],
  "metadata": {
    "language_info": {
      "name": "python"
    },
    "colab": {
      "provenance": []
    },
    "kernelspec": {
      "name": "python3",
      "display_name": "Python 3"
    }
  },
  "nbformat": 4,
  "nbformat_minor": 0
}