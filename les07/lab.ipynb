{
  "cells": [
    {
      "cell_type": "markdown",
      "metadata": {
        "id": "iwcNUlQaZeOL"
      },
      "source": [
        "# Лабораторная работа №7. Классификация"
      ]
    },
    {
      "cell_type": "markdown",
      "source": [
        "Выполнил студент группы 12002209 Телятников Максим Евгеньевич"
      ],
      "metadata": {
        "id": "ICuTwYAEZet4"
      }
    },
    {
      "cell_type": "markdown",
      "metadata": {
        "id": "zZrxYWAYZeOM"
      },
      "source": [
        "Выполните следующие задания:\n",
        "\n",
        "1. Откройте в файл в Google Colab (используйте собственный форк репозитория).\n",
        "2. Решите задачи.\n",
        "3. Сохраните результат в виде файла rep.ipynb в ваш репозиторий github в директорию ./les07\n",
        "4. Создайте pull request в репозиторий https://github.com/chebotarevsa/dap-2024. Название pull request должно иметь формат \"<Номер лабораторной работы>  <Номер группы> <ФИО>\"\n",
        "5. Сдайте работу в системе \"Пегас\", в отчет укажите ссылку на pull request"
      ]
    },
    {
      "cell_type": "markdown",
      "metadata": {
        "id": "FB16UKBrZeON"
      },
      "source": [
        "Используя набор данных titanic.csv постройте модель предсказывающую выжил или погиб пассажир.\n",
        "1.\tPassengerId – Идентификатор пассажира (уникальный номер для каждого пассажира).\n",
        "2.\tSurvived – Выжил (0 – не выжил, 1 – выжил).\n",
        "3.\tPclass – Класс пассажира (1 – первый класс, 2 – второй класс, 3 – третий класс).\n",
        "4.\tName – Имя (полное имя пассажира).\n",
        "5.\tSex – Пол (male – мужчина, female – женщина).\n",
        "6.\tAge – Возраст (числовое значение, может быть дробным).\n",
        "7.\tSibSp – Количество родственников на борту (братьев, сестер или супругов).\n",
        "8.\tParch – Количество родителей или детей на борту.\n",
        "9.\tTicket – Номер билета.\n",
        "10.\tFare – Стоимость билета (в фунтах стерлингов).\n",
        "11.\tCabin – Номер каюты (может быть пропущен, если данные отсутствуют).\n",
        "12.\tEmbarked – Порт посадки (C – Cherbourg, Q – Queenstown, S – Southampton)."
      ]
    },
    {
      "cell_type": "code",
      "execution_count": 13,
      "metadata": {
        "id": "T8-bpPOVZeON",
        "outputId": "0a3a20f2-548d-482a-9c3c-1db8863c9b02",
        "colab": {
          "base_uri": "https://localhost:8080/"
        }
      },
      "outputs": [
        {
          "output_type": "stream",
          "name": "stdout",
          "text": [
            "Python version: 3.11.11 (main, Dec  4 2024, 08:55:07) [GCC 11.4.0]\n",
            "Numpy version: 2.0.2\n",
            "Pandas version: 2.2.2\n",
            "Matplotlib version: 3.10.0\n"
          ]
        }
      ],
      "source": [
        "import sys\n",
        "import matplotlib as mpl\n",
        "import matplotlib.pyplot as plt\n",
        "import numpy as np\n",
        "import pandas as pd\n",
        "\n",
        "print(f\"Python version: {sys.version}\")\n",
        "print(f\"Numpy version: {np.version.version}\")\n",
        "print(f\"Pandas version: {pd.__version__}\")\n",
        "print(f\"Matplotlib version: {mpl.__version__}\")"
      ]
    },
    {
      "cell_type": "markdown",
      "metadata": {
        "id": "k0UnagBCZeOO"
      },
      "source": [
        "## Извлечение данных"
      ]
    },
    {
      "cell_type": "markdown",
      "metadata": {
        "id": "Vc2sFHh9ZeOO"
      },
      "source": [
        "1. Создайте DataFarame из файла titanic.csv, в качестве индекса используйте столбец \"PassengerId\"."
      ]
    },
    {
      "cell_type": "code",
      "execution_count": 14,
      "metadata": {
        "id": "Cgib25eAZeOO"
      },
      "outputs": [],
      "source": [
        "df = pd.read_csv('titanic.csv', index_col='PassengerId')"
      ]
    },
    {
      "cell_type": "markdown",
      "metadata": {
        "id": "eRAJeuWkZeOP"
      },
      "source": [
        "2. Выведете первые 7 строк набора."
      ]
    },
    {
      "cell_type": "code",
      "execution_count": 15,
      "metadata": {
        "id": "sQ60GEFKZeOP",
        "outputId": "48416cfa-7be8-47e1-8fba-0c9315776d65",
        "colab": {
          "base_uri": "https://localhost:8080/"
        }
      },
      "outputs": [
        {
          "output_type": "stream",
          "name": "stdout",
          "text": [
            "\n",
            "Первые 7 строк сохранены в файл: titanic_first_7_rows.xlsx\n"
          ]
        }
      ],
      "source": [
        "output_file = 'titanic_first_7_rows.xlsx'\n",
        "df.head(7).to_excel(output_file, sheet_name='Первые 7 строк')\n",
        "\n",
        "print(f\"\\nПервые 7 строк сохранены в файл: {output_file}\")"
      ]
    },
    {
      "cell_type": "markdown",
      "source": [
        "![image.png](data:image/png;base64,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)"
      ],
      "metadata": {
        "id": "4QUaqiwPcpjk"
      }
    },
    {
      "cell_type": "markdown",
      "metadata": {
        "id": "ZzYqZvuCZeOP"
      },
      "source": [
        "### Подготовка данных"
      ]
    },
    {
      "cell_type": "markdown",
      "metadata": {
        "id": "Zz4CpqL-ZeOP"
      },
      "source": [
        "3. Выведете информацию о типах данных в наборе. Имеются ли в наборе не числовые признаки? Имеются ли в наборе данные имеющие значение null?\n",
        "    "
      ]
    },
    {
      "cell_type": "code",
      "execution_count": 16,
      "metadata": {
        "id": "nyF2YhGpZeOP",
        "outputId": "990117c1-f48a-414d-fc61-7295864d19eb",
        "colab": {
          "base_uri": "https://localhost:8080/"
        }
      },
      "outputs": [
        {
          "output_type": "stream",
          "name": "stdout",
          "text": [
            "<class 'pandas.core.frame.DataFrame'>\n",
            "Index: 891 entries, 1 to 891\n",
            "Data columns (total 11 columns):\n",
            " #   Column    Non-Null Count  Dtype  \n",
            "---  ------    --------------  -----  \n",
            " 0   Survived  891 non-null    int64  \n",
            " 1   Pclass    891 non-null    int64  \n",
            " 2   Name      891 non-null    object \n",
            " 3   Sex       891 non-null    object \n",
            " 4   Age       714 non-null    float64\n",
            " 5   SibSp     891 non-null    int64  \n",
            " 6   Parch     891 non-null    int64  \n",
            " 7   Ticket    891 non-null    object \n",
            " 8   Fare      891 non-null    float64\n",
            " 9   Cabin     204 non-null    object \n",
            " 10  Embarked  889 non-null    object \n",
            "dtypes: float64(2), int64(4), object(5)\n",
            "memory usage: 83.5+ KB\n",
            "None\n",
            "Нечисловые признаки: Index(['Name', 'Sex', 'Ticket', 'Cabin', 'Embarked'], dtype='object')\n",
            "Количество пропущенных значений по столбцам:\n",
            "Survived      0\n",
            "Pclass        0\n",
            "Name          0\n",
            "Sex           0\n",
            "Age         177\n",
            "SibSp         0\n",
            "Parch         0\n",
            "Ticket        0\n",
            "Fare          0\n",
            "Cabin       687\n",
            "Embarked      2\n",
            "dtype: int64\n"
          ]
        }
      ],
      "source": [
        "print(df.info())\n",
        "\n",
        "non_numeric_columns = df.select_dtypes(exclude=['number']).columns\n",
        "print(\"Нечисловые признаки:\", non_numeric_columns)\n",
        "\n",
        "print(\"Количество пропущенных значений по столбцам:\")\n",
        "print(df.isna().sum())"
      ]
    },
    {
      "cell_type": "markdown",
      "metadata": {
        "id": "iM9pxfSdZeOP"
      },
      "source": [
        "4. Удалите не числовые признаки, которые по вашему мнению, не могут влиять на заначение выжил или погиб пассажир."
      ]
    },
    {
      "cell_type": "code",
      "execution_count": 17,
      "metadata": {
        "id": "L6JeXr3HZeOP",
        "outputId": "c3d0346f-6dcf-488f-d219-c4c3b9ac5e2d",
        "colab": {
          "base_uri": "https://localhost:8080/"
        }
      },
      "outputs": [
        {
          "output_type": "stream",
          "name": "stdout",
          "text": [
            "             Survived  Pclass     Sex   Age  SibSp  Parch     Fare\n",
            "PassengerId                                                       \n",
            "1                   0       3    male  22.0      1      0   7.2500\n",
            "2                   1       1  female  38.0      1      0  71.2833\n",
            "3                   1       3  female  26.0      0      0   7.9250\n",
            "4                   1       1  female  35.0      1      0  53.1000\n",
            "5                   0       3    male  35.0      0      0   8.0500\n"
          ]
        }
      ],
      "source": [
        "df.drop(['Name', 'Ticket', 'Cabin', 'Embarked'], axis=1, inplace=True)\n",
        "\n",
        "print(df.head())"
      ]
    },
    {
      "cell_type": "markdown",
      "metadata": {
        "id": "KYhshwr5ZeOP"
      },
      "source": [
        "5. Вместо признака \"Sex\" (я надеюсь вы его не удалили 😂) Создайте два новых признака male и female которые содержат значения 0 или 1."
      ]
    },
    {
      "cell_type": "code",
      "execution_count": 18,
      "metadata": {
        "id": "Gncz1QD0ZeOP",
        "outputId": "014220c3-9be0-4ae0-d5a0-f15700ab562a",
        "colab": {
          "base_uri": "https://localhost:8080/"
        }
      },
      "outputs": [
        {
          "output_type": "stream",
          "name": "stdout",
          "text": [
            "             Survived  Pclass   Age  SibSp  Parch     Fare  male  female\n",
            "PassengerId                                                             \n",
            "1                   0       3  22.0      1      0   7.2500     1       0\n",
            "2                   1       1  38.0      1      0  71.2833     0       1\n",
            "3                   1       3  26.0      0      0   7.9250     0       1\n",
            "4                   1       1  35.0      1      0  53.1000     0       1\n",
            "5                   0       3  35.0      0      0   8.0500     1       0\n"
          ]
        }
      ],
      "source": [
        "df['male'] = (df['Sex'] == 'male').astype(int)\n",
        "df['female'] = (df['Sex'] == 'female').astype(int)\n",
        "df.drop('Sex', axis=1, inplace=True)\n",
        "\n",
        "print(df.head())"
      ]
    },
    {
      "cell_type": "markdown",
      "metadata": {
        "id": "uNy33-sLZeOQ"
      },
      "source": [
        "6. Удалите строки, которые содержать хотя бы одно null значение."
      ]
    },
    {
      "cell_type": "code",
      "execution_count": 20,
      "metadata": {
        "id": "tR4hZpiQZeOQ",
        "outputId": "f625b1b2-45fe-4665-d054-7c38bef22f99",
        "colab": {
          "base_uri": "https://localhost:8080/"
        }
      },
      "outputs": [
        {
          "output_type": "stream",
          "name": "stdout",
          "text": [
            "Информация о DataFrame после удаления строк с null:\n",
            "<class 'pandas.core.frame.DataFrame'>\n",
            "Index: 714 entries, 1 to 891\n",
            "Data columns (total 8 columns):\n",
            " #   Column    Non-Null Count  Dtype  \n",
            "---  ------    --------------  -----  \n",
            " 0   Survived  714 non-null    int64  \n",
            " 1   Pclass    714 non-null    int64  \n",
            " 2   Age       714 non-null    float64\n",
            " 3   SibSp     714 non-null    int64  \n",
            " 4   Parch     714 non-null    int64  \n",
            " 5   Fare      714 non-null    float64\n",
            " 6   male      714 non-null    int64  \n",
            " 7   female    714 non-null    int64  \n",
            "dtypes: float64(2), int64(6)\n",
            "memory usage: 50.2 KB\n",
            "None\n"
          ]
        }
      ],
      "source": [
        "df.dropna(axis=0, inplace=True)\n",
        "\n",
        "print(\"Информация о DataFrame после удаления строк с null:\")\n",
        "print(df.info())"
      ]
    },
    {
      "cell_type": "markdown",
      "metadata": {
        "id": "0z1kH6XlZeOQ"
      },
      "source": [
        "## Исследование данных"
      ]
    },
    {
      "cell_type": "markdown",
      "metadata": {
        "id": "qVrrApn2ZeOQ"
      },
      "source": [
        "4. Нормализуйте значения признака \"Fare\"."
      ]
    },
    {
      "cell_type": "code",
      "execution_count": 24,
      "metadata": {
        "id": "0tjsVPigZeOQ",
        "outputId": "b9c79a5f-fc41-48d8-ce65-7448eb6d67b5",
        "colab": {
          "base_uri": "https://localhost:8080/"
        }
      },
      "outputs": [
        {
          "output_type": "stream",
          "name": "stdout",
          "text": [
            "Минимальное значение Fare_normalized: 0.0\n",
            "Максимальное значение Fare_normalized: 1.0\n",
            "Первые 5 строк DataFrame с нормализованным признаком 'Fare':\n",
            "             Survived  Pclass   Age  SibSp  Parch     Fare  male  female  \\\n",
            "PassengerId                                                                \n",
            "1                   0       3  22.0      1      0   7.2500     1       0   \n",
            "2                   1       1  38.0      1      0  71.2833     0       1   \n",
            "3                   1       3  26.0      0      0   7.9250     0       1   \n",
            "4                   1       1  35.0      1      0  53.1000     0       1   \n",
            "5                   0       3  35.0      0      0   8.0500     1       0   \n",
            "\n",
            "             Fare_normalized  \n",
            "PassengerId                   \n",
            "1                   0.014151  \n",
            "2                   0.139136  \n",
            "3                   0.015469  \n",
            "4                   0.103644  \n",
            "5                   0.015713  \n"
          ]
        }
      ],
      "source": [
        "min_fare = df['Fare'].min()\n",
        "max_fare = df['Fare'].max()\n",
        "\n",
        "df['Fare_normalized'] = (df['Fare'] - min_fare) / (max_fare - min_fare)\n",
        "\n",
        "print(\"Минимальное значение Fare_normalized:\", df['Fare_normalized'].min())\n",
        "print(\"Максимальное значение Fare_normalized:\", df['Fare_normalized'].max())\n",
        "\n",
        "print(\"Первые 5 строк DataFrame с нормализованным признаком 'Fare':\")\n",
        "print(df.head())"
      ]
    },
    {
      "cell_type": "markdown",
      "metadata": {
        "id": "7xd4f6XXZeOQ"
      },
      "source": [
        "5. Найдите разницу между средними значениями признака \"Fare\" для погибших и выживших пассажиров."
      ]
    },
    {
      "cell_type": "code",
      "execution_count": 28,
      "metadata": {
        "id": "2RRZYNdcZeOQ",
        "outputId": "ce118ed1-926c-4085-d412-4f44dd85edb8",
        "colab": {
          "base_uri": "https://localhost:8080/"
        }
      },
      "outputs": [
        {
          "output_type": "stream",
          "name": "stdout",
          "text": [
            "Среднее значение Fare для выживших: 51.843205172413796\n",
            "Среднее значение Fare для погибших: 22.96545636792453\n",
            "Разница между средними значениями: 28.877748804489265\n"
          ]
        }
      ],
      "source": [
        "mean_fare_survived = df[df['Survived'] == 1]['Fare'].mean()\n",
        "mean_fare_not_survived = df[df['Survived'] == 0]['Fare'].mean()\n",
        "\n",
        "fare_difference = mean_fare_survived - mean_fare_not_survived\n",
        "\n",
        "print(\"Среднее значение Fare для выживших:\", mean_fare_survived)\n",
        "print(\"Среднее значение Fare для погибших:\", mean_fare_not_survived)\n",
        "print(\"Разница между средними значениями:\", fare_difference)"
      ]
    },
    {
      "cell_type": "markdown",
      "metadata": {
        "id": "e0jA9F0IZeOQ"
      },
      "source": [
        "6. Простройте на одной оси координат гистограмы значений признака \"Fare\" для погибших и выживших пассажиров."
      ]
    },
    {
      "cell_type": "code",
      "execution_count": 29,
      "metadata": {
        "id": "kMGsh2LyZeOQ",
        "outputId": "fa641d7a-3ed3-4728-b95e-47674a9d0975",
        "colab": {
          "base_uri": "https://localhost:8080/",
          "height": 518
        }
      },
      "outputs": [
        {
          "output_type": "display_data",
          "data": {
            "text/plain": [
              "<Figure size 1000x600 with 1 Axes>"
            ],
            "image/png": "[encoded data removed]"
          },
          "metadata": {}
        }
      ],
      "source": [
        "import matplotlib.pyplot as plt\n",
        "\n",
        "plt.figure(figsize=(10, 6))\n",
        "\n",
        "plt.hist(df[df['Survived'] == 1]['Fare'], bins=30, alpha=0.5, label='Выжившие', color='green')\n",
        "plt.hist(df[df['Survived'] == 0]['Fare'], bins=30, alpha=0.5, label='Погибшие', color='red')\n",
        "\n",
        "plt.xlabel('Fare (Стоимость билета)')\n",
        "plt.ylabel('Количество пассажиров')\n",
        "plt.title('Гистограмма значений Fare для выживших и погибших пассажиров')\n",
        "\n",
        "plt.legend()\n",
        "plt.show()"
      ]
    },
    {
      "cell_type": "markdown",
      "metadata": {
        "id": "q240HM7TZeOQ"
      },
      "source": [
        "7. Сформируйте набор признаков (X). Сформируйте вектор целевых значений (y)."
      ]
    },
    {
      "cell_type": "code",
      "execution_count": 30,
      "metadata": {
        "id": "r0Y0ElnAZeOQ",
        "outputId": "c5a48275-c329-4c5d-eff0-6c25c13f1a37",
        "colab": {
          "base_uri": "https://localhost:8080/"
        }
      },
      "outputs": [
        {
          "output_type": "stream",
          "name": "stdout",
          "text": [
            "Набор признаков (X):\n",
            "             Pclass   Age  SibSp  Parch     Fare  male  female  \\\n",
            "PassengerId                                                      \n",
            "1                 3  22.0      1      0   7.2500     1       0   \n",
            "2                 1  38.0      1      0  71.2833     0       1   \n",
            "3                 3  26.0      0      0   7.9250     0       1   \n",
            "4                 1  35.0      1      0  53.1000     0       1   \n",
            "5                 3  35.0      0      0   8.0500     1       0   \n",
            "\n",
            "             Fare_normalized  \n",
            "PassengerId                   \n",
            "1                   0.014151  \n",
            "2                   0.139136  \n",
            "3                   0.015469  \n",
            "4                   0.103644  \n",
            "5                   0.015713  \n",
            "\n",
            "Вектор целевых значений (y):\n",
            "PassengerId\n",
            "1    0\n",
            "2    1\n",
            "3    1\n",
            "4    1\n",
            "5    0\n",
            "Name: Survived, dtype: int64\n"
          ]
        }
      ],
      "source": [
        "X = df.drop('Survived', axis=1)\n",
        "y = df['Survived']\n",
        "\n",
        "print(\"Набор признаков (X):\")\n",
        "print(X.head())\n",
        "\n",
        "print(\"\\nВектор целевых значений (y):\")\n",
        "print(y.head())"
      ]
    },
    {
      "cell_type": "markdown",
      "metadata": {
        "id": "3-_ZHGDHZeOQ"
      },
      "source": [
        "## Предсказательная модель"
      ]
    },
    {
      "cell_type": "markdown",
      "metadata": {
        "id": "dENdM5-PZeOQ"
      },
      "source": [
        "8. Разделите набор данных на два, одни для обучения модели другой для проверки. Тестовый набор должен содержать 25 процентов данных."
      ]
    },
    {
      "cell_type": "code",
      "execution_count": 31,
      "metadata": {
        "id": "3ngHvP_mZeOQ",
        "outputId": "778d480d-a8fe-40a3-9ae3-695a368a5c96",
        "colab": {
          "base_uri": "https://localhost:8080/"
        }
      },
      "outputs": [
        {
          "output_type": "stream",
          "name": "stdout",
          "text": [
            "Размер обучающей выборки (X_train): (535, 8)\n",
            "Размер тестовой выборки (X_test): (179, 8)\n",
            "Размер обучающей выборки (y_train): (535,)\n",
            "Размер тестовой выборки (y_test): (179,)\n"
          ]
        }
      ],
      "source": [
        "from sklearn.model_selection import train_test_split\n",
        "\n",
        "X_train, X_test, y_train, y_test = train_test_split(X, y, test_size=0.25, random_state=42)\n",
        "\n",
        "print(\"Размер обучающей выборки (X_train):\", X_train.shape)\n",
        "print(\"Размер тестовой выборки (X_test):\", X_test.shape)\n",
        "print(\"Размер обучающей выборки (y_train):\", y_train.shape)\n",
        "print(\"Размер тестовой выборки (y_test):\", y_test.shape)"
      ]
    },
    {
      "cell_type": "markdown",
      "metadata": {
        "id": "wL3Y-suRZeOQ"
      },
      "source": [
        "9. Выполните обучение модели."
      ]
    },
    {
      "cell_type": "code",
      "execution_count": 34,
      "metadata": {
        "id": "RFcgy3mWZeOQ",
        "outputId": "4ac5ecd9-3b13-4e37-82df-893257b86d06",
        "colab": {
          "base_uri": "https://localhost:8080/"
        }
      },
      "outputs": [
        {
          "output_type": "stream",
          "name": "stdout",
          "text": [
            "Модель успешно обучена!\n"
          ]
        }
      ],
      "source": [
        "from sklearn.linear_model import LogisticRegression\n",
        "from sklearn.preprocessing import StandardScaler\n",
        "\n",
        "scaler = StandardScaler()\n",
        "X_train_scaled = scaler.fit_transform(X_train)\n",
        "X_test_scaled = scaler.transform(X_test)\n",
        "\n",
        "model = LogisticRegression(random_state=42, solver='liblinear', max_iter=1000)\n",
        "model.fit(X_train_scaled, y_train)\n",
        "\n",
        "print(\"Модель успешно обучена!\")"
      ]
    },
    {
      "cell_type": "markdown",
      "metadata": {
        "id": "SpDxOrQwZeOR"
      },
      "source": [
        "## Проверка модели"
      ]
    },
    {
      "cell_type": "markdown",
      "metadata": {
        "id": "7mnozT_zZeOR"
      },
      "source": [
        "10. Выведите мартицу ошибок"
      ]
    },
    {
      "cell_type": "code",
      "execution_count": 35,
      "metadata": {
        "id": "9ySfF8MsZeOR",
        "outputId": "b7889cc8-3514-4dfa-dd55-4ddaf2f2e280",
        "colab": {
          "base_uri": "https://localhost:8080/"
        }
      },
      "outputs": [
        {
          "output_type": "stream",
          "name": "stdout",
          "text": [
            "Матрица ошибок:\n",
            "[[91 16]\n",
            " [25 47]]\n"
          ]
        }
      ],
      "source": [
        "from sklearn.metrics import confusion_matrix\n",
        "\n",
        "y_pred = model.predict(X_test_scaled)\n",
        "conf_matrix = confusion_matrix(y_test, y_pred)\n",
        "\n",
        "print(\"Матрица ошибок:\")\n",
        "print(conf_matrix)"
      ]
    },
    {
      "cell_type": "markdown",
      "metadata": {
        "id": "fnDXP-4pZeOR"
      },
      "source": [
        "11. Расчитайте accuracy"
      ]
    },
    {
      "cell_type": "code",
      "execution_count": 36,
      "metadata": {
        "id": "iRuFWyFSZeOR",
        "outputId": "36779d4f-7552-411a-e43b-8ab9f72da850",
        "colab": {
          "base_uri": "https://localhost:8080/"
        }
      },
      "outputs": [
        {
          "output_type": "stream",
          "name": "stdout",
          "text": [
            "Точность модели (accuracy): 0.770949720670391\n"
          ]
        }
      ],
      "source": [
        "from sklearn.metrics import accuracy_score\n",
        "\n",
        "y_pred = model.predict(X_test_scaled)\n",
        "accuracy = accuracy_score(y_test, y_pred)\n",
        "\n",
        "print(\"Точность модели (accuracy):\", accuracy)"
      ]
    },
    {
      "cell_type": "markdown",
      "metadata": {
        "id": "PXCLKmhYZeOR"
      },
      "source": [
        "12. Сделайте вывод о полученном результате"
      ]
    },
    {
      "cell_type": "markdown",
      "metadata": {
        "id": "PAN7rT-2ZeOR"
      },
      "source": [
        "Вывод: Полученное значение accuracy = 0.7709 означает, что модель классифицирует пассажиров (выжили они или нет) правильно в 77% случаев. Это говорит о достаточно хорошей способности модели предсказывать исход для пассажиров на основе имеющихся признаков."
      ]
    },
    {
      "cell_type": "markdown",
      "metadata": {
        "id": "7wwuuebFZeOS"
      },
      "source": [
        "## Вопросы для защиты"
      ]
    },
    {
      "cell_type": "markdown",
      "metadata": {
        "id": "_afMz5eCZeOS"
      },
      "source": [
        "#### 1. **Сформулируйте задачу классификации.**\n",
        "Задача классификации — это задача машинного обучения, в которой необходимо отнести объекты к одному из заранее определенных классов на основе их признаков. Например, классификация писем на \"спам\" и \"не спам\" или определение выживших и погибших пассажиров на Титанике.\n",
        "\n",
        "---\n",
        "\n",
        "#### 2. **Перечислите типы классификации.**\n",
        "Основные типы классификации:\n",
        "- **Бинарная классификация**: Классификация на два класса (например, \"спам\" или \"не спам\").\n",
        "- **Мультиклассовая классификация**: Классификация на три и более классов (например, классификация изображений на \"кошки\", \"собаки\", \"птицы\").\n",
        "- **Классификация по нескольким меткам**: Каждый объект может принадлежать нескольким классам одновременно (например, классификация текстов по темам: \"спорт\", \"политика\", \"экономика\").\n",
        "- **Несбалансированная классификация**: Классификация, в которой классы представлены в данных неравномерно (например, 90% объектов принадлежат одному классу, а 10% — другому).\n",
        "\n",
        "---\n",
        "\n",
        "#### 3. **В чем особенность несбалансированной классификации?**\n",
        "Особенность несбалансированной классификации заключается в том, что один класс значительно преобладает над другим. Это может привести к тому, что модель будет предсказывать только доминирующий класс, игнорируя меньшинство. Для решения этой проблемы используются методы, такие как:\n",
        "- Взвешивание классов.\n",
        "- Оверсэмплинг (увеличение числа объектов меньшинства).\n",
        "- Андерсэмплинг (уменьшение числа объектов большинства).\n",
        "\n",
        "---\n",
        "\n",
        "#### 4. **В чем особенность мультиклассовой классификации?**\n",
        "Особенность мультиклассовой классификации заключается в том, что модель должна различать три и более классов. Это требует более сложных алгоритмов и подходов, таких как:\n",
        "- Использование стратегий \"Один против всех\" (One-vs-Rest) или \"Один против одного\" (One-vs-One).\n",
        "- Применение алгоритмов, которые изначально поддерживают мультиклассовую классификацию (например, Random Forest, Gradient Boosting).\n",
        "\n",
        "---\n",
        "\n",
        "#### 5. **В чем особенность бинарной классификации?**\n",
        "Особенность бинарной классификации заключается в том, что модель должна различать только два класса. Это упрощает задачу, так как:\n",
        "- Модель предсказывает вероятность принадлежности к одному из классов.\n",
        "- Метрики оценки (например, accuracy, precision, recall) интерпретируются проще, чем в мультиклассовой классификации.\n",
        "\n",
        "---\n",
        "\n",
        "#### 6. **В чем особенность классификации по нескольким меткам?**\n",
        "Особенность классификации по нескольким меткам заключается в том, что каждый объект может принадлежать нескольким классам одновременно. Например, текст может быть одновременно о \"спорте\" и \"политике\". Для решения таких задач используются:\n",
        "- Алгоритмы, которые поддерживают многометочную классификацию (например, MLkNN).\n",
        "- Преобразование задачи в несколько задач бинарной классификации (для каждой метки отдельно).\n",
        "\n",
        "---\n",
        "\n",
        "#### 7. **Чем стратегия \"Один против всех\" отличается от стратегии \"Один против одного\"?**\n",
        "- **Один против всех (One-vs-Rest)**:\n",
        "  - Для каждого класса строится отдельная модель, которая отличает этот класс от всех остальных.\n",
        "  - Подходит для мультиклассовой классификации.\n",
        "  - Меньше моделей, но каждая модель обучается на всех данных.\n",
        "\n",
        "- **Один против одного (One-vs-One)**:\n",
        "  - Для каждой пары классов строится отдельная модель.\n",
        "  - Подходит для мультиклассовой классификации.\n",
        "  - Больше моделей, но каждая модель обучается только на данных двух классов.\n",
        "\n",
        "---\n",
        "\n",
        "#### 8. **Что такое матрица ошибок (несоответствий)?**\n",
        "Матрица ошибок (confusion matrix) — это таблица, которая показывает, сколько правильных и ошибочных предсказаний сделала модель. Она состоит из:\n",
        "- **TN (True Negative)**: Правильно предсказанные отрицательные классы.\n",
        "- **FP (False Positive)**: Неправильно предсказанные положительные классы.\n",
        "- **FN (False Negative)**: Неправильно предсказанные отрицательные классы.\n",
        "- **TP (True Positive)**: Правильно предсказанные положительные классы.\n",
        "\n",
        "---\n",
        "\n",
        "#### 9. **Как рассчитывается Accuracy?**\n",
        "Accuracy (точность) рассчитывается по формуле:\n",
        "\n",
        "![image.png](data:image/png;base64,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)\n",
        "\n",
        "Где:\n",
        "- **TP** — True Positive.\n",
        "- **TN** — True Negative.\n",
        "- **FP** — False Positive.\n",
        "- **FN** — False Negative.\n",
        "\n",
        "---\n",
        "\n",
        "#### 10. **Объясните алгоритм классификации K-ближайших соседей.**\n",
        "Алгоритм K-ближайших соседей (K-Nearest Neighbors, KNN) — это алгоритм классификации, который предсказывает класс объекта на основе классов его ближайших соседей в пространстве признаков. Основные шаги:\n",
        "1. Выбор числа соседей \\( K \\).\n",
        "2. Вычисление расстояния между объектами (например, евклидово расстояние).\n",
        "3. Нахождение \\( K \\) ближайших соседей.\n",
        "4. Определение класса объекта как наиболее часто встречающегося среди \\( K \\) соседей.\n"
      ]
    }
  ],
  "metadata": {
    "kernelspec": {
      "display_name": "Python 3",
      "language": "python",
      "name": "python3"
    },
    "language_info": {
      "codemirror_mode": {
        "name": "ipython",
        "version": 3
      },
      "file_extension": ".py",
      "mimetype": "text/x-python",
      "name": "python",
      "nbconvert_exporter": "python",
      "pygments_lexer": "ipython3",
      "version": "3.12.2"
    },
    "colab": {
      "provenance": []
    }
  },
  "nbformat": 4,
  "nbformat_minor": 0
}